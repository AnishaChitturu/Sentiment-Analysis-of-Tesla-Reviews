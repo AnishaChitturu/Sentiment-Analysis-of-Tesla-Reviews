{
 "cells": [
  {
   "cell_type": "markdown",
   "id": "67295bf6-168a-4b48-aa0b-671fccfae773",
   "metadata": {},
   "source": [
    "# Data collection"
   ]
  },
  {
   "cell_type": "code",
   "execution_count": 1,
   "id": "7e928717-1919-4213-8cc6-ec39fb297de1",
   "metadata": {},
   "outputs": [],
   "source": [
    "import requests\n",
    "from bs4 import BeautifulSoup"
   ]
  },
  {
   "cell_type": "code",
   "execution_count": 2,
   "id": "e3aa3451-7b2a-40a6-9de5-829a2cb0fa15",
   "metadata": {},
   "outputs": [
    {
     "data": {
      "text/plain": [
       "200"
      ]
     },
     "execution_count": 2,
     "metadata": {},
     "output_type": "execute_result"
    }
   ],
   "source": [
    "r = requests.get('https://www.yelp.com/biz/tesla-san-francisco?osq=Tesla+Dealership')\n",
    "r.status_code"
   ]
  },
  {
   "cell_type": "code",
   "execution_count": 13,
   "id": "6ee1930a-c153-462f-a3cc-14259f991458",
   "metadata": {},
   "outputs": [],
   "source": [
    "import re"
   ]
  },
  {
   "cell_type": "code",
   "execution_count": 14,
   "id": "10ac3ec4-7add-494c-9ad8-4c26466cd41a",
   "metadata": {},
   "outputs": [],
   "source": [
    "soup = BeautifulSoup(r.text,'html.parser')\n",
    "regex = re.compile('.*comment.*')\n",
    "results = soup.find_all('p',{'class':regex})\n",
    "reviews = [r.text for r in results]"
   ]
  },
  {
   "cell_type": "code",
   "execution_count": 16,
   "id": "9a915186-08bc-4c7f-ab5c-642d48c317d0",
   "metadata": {},
   "outputs": [
    {
     "data": {
      "text/plain": [
       "[\"Best service center. The team is very responsive, knowledgeable & friendly. I've visited for glass, filters, tires, front upper control arms, radar & more; always high-quality & lasting repairs, with clear explanations provided.\",\n",
       " 'I went here today to get my front two tires replaced. Tesla\\'s are amazing vehicles, certainly I don\\'t have any problems with the vehicle itself. It\\'s the men working the tire department. I went there and my whole time being there I felt pressured and forced. First an older guy came up to me and checked my front passenger tire out and said it would last a little while more, so a replacement wasn\\'t necessary. Then another gentleman came and was extremely hyper, literally running around and tweaking the whole time. Dude came and checked all 4 of my tires in like 10 seconds max and said I needed 4 tires. Which I agreed with him because I myself knew I needed all 4 to be replaced. Then I\\'m assuming the \"manager\" there was also extremely forceful and made me feel pressed. I told them I won\\'t do all 4, I just want to do 2, he said no, but I understand it\\'s for my safety. Then, I agreed to replace all 4 and the cost came out to $1,851.00 for NON-SPORT Michelin tires and I then said I will think about it. So I went to Costco to get an estimate and now I am getting all brand new 4 Michelin Pilot 4 Sport All Season tires for $963. Go to Costco for your tires!!!!! Also it\\'s been 8+ hours since I left the service center and my app is still under service!!! Which is extremely frustrating because I need to adjust my charging limit!! Seriously get new people running the tire department.Sincerely negative - dissatisfying - disappointing experience today. Do Better!',\n",
       " 'I waited for 25 mins and no one even acknowledged i was in the show room. I walked over to the one salesman who was helping another customer to see if he might at least say hang on or hello. Nothing. I was just down in Colma and will use that one even though I live in the City.',\n",
       " 'I was very nervous about coming back to this Tesla location due to the poor service I received the last time I was there. However, today I did not have a choice and had to come back to this particular location so they could repair my tire. To my surprise I got phenomenal service from Troy. The service was very quick (30 minutes in and out). I would recommend this dealership only if Troy is working.',\n",
       " \"Delivery and customer service experience is beyond horrible from Tesla. I've now lost a lot of respect and confidence for Tesla and their cars. They have absolute zero care for their customers and only care about themselves. Not sure if I will ever order another vehicle from Tesla in the future.\",\n",
       " \"Slow and inhospitable. It should never take 3 hours to replace a tire especially when the dude singing folks in says it'll take an hour.\",\n",
       " 'Went here for repair after noticing a little gap between the rocker panel and the plastic underbody cover. I read up online and multiple people have the exact same issue that got fixed easily either by mobile service or covered under warranty. Here they took a look at my car, saw some small scratches on the plastic cover that literally could have been caused by anything and deemed that whatever caused those tiny scratches also caused the panel to pop out creating the gap and that it was my fault; I had to pay $200 to literally have some push clips reseated even though my car is still under full warranty. RIDICULOUS. HORRENDOUS. Please do yourself and favor and drive some extra miles to a service center else where than this location.',\n",
       " \"In a nutshell: Tesla sucks! I leased one of their Model Ys in 2021 and had technical issues within the first month. After a whole year, I had finally gotten them to take the car back and refund the entire year's worth of payments (including down payment & fees). But now, Tesla Insurance is still charging me for month insurance. Worse yet: when I call the 844 number, it's automated system doesn't provide an option for their insurance department... and even when I press any other number for a department, they just leave you on hold listening to some stupid music! I had to call my credit card company to dispute the charge and put a block on them. Do not buy a Tesla, or you'll be stuck in one or all of these terrible situations!\",\n",
       " 'Classic sales person technique. Text you to confirm meeting then when you show up to test drive, they have nothing to even try. \\xa0Anthony was all excited to get me to come in, I confirmed the appointment and no one bothered to let us know they had nothing to test drive. A simple call would have saved us time versus getting a nanny to cover while we went to try the model Y. Best excuse was \"sorry, we are too busy selling cars to msg you\"',\n",
       " 'I took back my 2018 Model 3 last month for safety recall and error on passenger safety belt, nothing to complain, left the car and pickup the next day with $200 uber credit.The car is beyond satisfying and this location service team is top notch!Thank you team Van Ness!',\n",
       " \"My model 3 got punctured on monday, slow leak for 2 days and decided to visit this service center again since the only one in SF.On google it says open at 10am but I went there around 9am, CK quickly greeted me and check the puncture. Unfortunately the puncture can't be repair so we needed to change to new tire.They put a loaner tire for me to drive around while they replace the new tire and comeback at 3pm and have it install in couple minutes.The price of new tire is somewhat $100 cheaper than the price that quoted me from my local shop in Sunset District.Thanks again CK for responsive quick service!\"]"
      ]
     },
     "execution_count": 16,
     "metadata": {},
     "output_type": "execute_result"
    }
   ],
   "source": [
    "reviews"
   ]
  },
  {
   "cell_type": "markdown",
   "id": "5dbf06fb-c401-4958-bb01-e3286e942ee1",
   "metadata": {},
   "source": [
    "# Analysing Data"
   ]
  },
  {
   "cell_type": "code",
   "execution_count": 17,
   "id": "fbb415e0-c04e-4af2-bf28-badeeb49e0ba",
   "metadata": {},
   "outputs": [],
   "source": [
    "import pandas as pd\n",
    "import numpy as np"
   ]
  },
  {
   "cell_type": "code",
   "execution_count": 21,
   "id": "02d90fe4-cc67-4396-bba7-32ea009ea5a2",
   "metadata": {},
   "outputs": [],
   "source": [
    "df = pd.DataFrame(np.array(reviews), columns = ['review'])"
   ]
  },
  {
   "cell_type": "code",
   "execution_count": 22,
   "id": "6db870c4-0e8d-4cb5-8a0c-6f918c02e7c8",
   "metadata": {},
   "outputs": [
    {
     "data": {
      "text/html": [
       "<div>\n",
       "<style scoped>\n",
       "    .dataframe tbody tr th:only-of-type {\n",
       "        vertical-align: middle;\n",
       "    }\n",
       "\n",
       "    .dataframe tbody tr th {\n",
       "        vertical-align: top;\n",
       "    }\n",
       "\n",
       "    .dataframe thead th {\n",
       "        text-align: right;\n",
       "    }\n",
       "</style>\n",
       "<table border=\"1\" class=\"dataframe\">\n",
       "  <thead>\n",
       "    <tr style=\"text-align: right;\">\n",
       "      <th></th>\n",
       "      <th>review</th>\n",
       "    </tr>\n",
       "  </thead>\n",
       "  <tbody>\n",
       "    <tr>\n",
       "      <th>0</th>\n",
       "      <td>Best service center. The team is very responsi...</td>\n",
       "    </tr>\n",
       "    <tr>\n",
       "      <th>1</th>\n",
       "      <td>I went here today to get my front two tires re...</td>\n",
       "    </tr>\n",
       "    <tr>\n",
       "      <th>2</th>\n",
       "      <td>I waited for 25 mins and no one even acknowled...</td>\n",
       "    </tr>\n",
       "    <tr>\n",
       "      <th>3</th>\n",
       "      <td>I was very nervous about coming back to this T...</td>\n",
       "    </tr>\n",
       "    <tr>\n",
       "      <th>4</th>\n",
       "      <td>Delivery and customer service experience is be...</td>\n",
       "    </tr>\n",
       "  </tbody>\n",
       "</table>\n",
       "</div>"
      ],
      "text/plain": [
       "                                              review\n",
       "0  Best service center. The team is very responsi...\n",
       "1  I went here today to get my front two tires re...\n",
       "2  I waited for 25 mins and no one even acknowled...\n",
       "3  I was very nervous about coming back to this T...\n",
       "4  Delivery and customer service experience is be..."
      ]
     },
     "execution_count": 22,
     "metadata": {},
     "output_type": "execute_result"
    }
   ],
   "source": [
    "df.head()"
   ]
  },
  {
   "cell_type": "code",
   "execution_count": 23,
   "id": "626b8c25-1420-4c51-b16e-96fa3f50bde9",
   "metadata": {},
   "outputs": [
    {
     "data": {
      "text/plain": [
       "11"
      ]
     },
     "execution_count": 23,
     "metadata": {},
     "output_type": "execute_result"
    }
   ],
   "source": [
    "len(df['review'])"
   ]
  },
  {
   "cell_type": "code",
   "execution_count": 26,
   "id": "412b4786-b39d-40ae-97b9-40ffd8178e7e",
   "metadata": {},
   "outputs": [],
   "source": [
    "df['word_count'] = df['review'].apply(lambda x : len(x.split()))"
   ]
  },
  {
   "cell_type": "code",
   "execution_count": 29,
   "id": "7dc45e86-fa81-42bf-9323-4530661e8c67",
   "metadata": {},
   "outputs": [],
   "source": [
    "df['char_count'] = df['review'].apply(lambda x: len(x))"
   ]
  },
  {
   "cell_type": "code",
   "execution_count": 31,
   "id": "6a4c9fdf-673c-48cd-bc0d-3a7e94b7fffc",
   "metadata": {},
   "outputs": [],
   "source": [
    "def average_words(x):\n",
    "    words = x.split()\n",
    "    return sum(len(word) for word in words)/len(words)\n",
    "    "
   ]
  },
  {
   "cell_type": "code",
   "execution_count": 32,
   "id": "c2bd89e7-bb91-45b4-a1cd-7fdc73388aad",
   "metadata": {},
   "outputs": [],
   "source": [
    "df['average_word_length'] = df['review'].apply(lambda x: average_words(x))"
   ]
  },
  {
   "cell_type": "code",
   "execution_count": 34,
   "id": "e8d3f93d-8bb2-4a85-b89e-a07ea1c98fcb",
   "metadata": {},
   "outputs": [],
   "source": [
    "from nltk.corpus import stopwords"
   ]
  },
  {
   "cell_type": "code",
   "execution_count": 35,
   "id": "4d859a66-b8a7-4340-8979-9068240b31d1",
   "metadata": {},
   "outputs": [],
   "source": [
    "stop_words = stopwords.words('english')"
   ]
  },
  {
   "cell_type": "code",
   "execution_count": 37,
   "id": "8496a36f-792f-458f-87c5-db750c57dcfa",
   "metadata": {},
   "outputs": [
    {
     "data": {
      "text/plain": [
       "179"
      ]
     },
     "execution_count": 37,
     "metadata": {},
     "output_type": "execute_result"
    }
   ],
   "source": [
    "len(stop_words)"
   ]
  },
  {
   "cell_type": "code",
   "execution_count": 38,
   "id": "97c102b7-4dbb-40f4-b65a-e511852a2563",
   "metadata": {},
   "outputs": [],
   "source": [
    "df['stopword_count'] = df['review'].apply(lambda x: len([word for word in x.split() if word.lower() in stop_words]))"
   ]
  },
  {
   "cell_type": "code",
   "execution_count": 40,
   "id": "0425806c-a722-452f-98d7-8fac46a10f0d",
   "metadata": {},
   "outputs": [],
   "source": [
    "df['stopword_rate'] = df['stopword_count']/df['word_count']"
   ]
  },
  {
   "cell_type": "code",
   "execution_count": 41,
   "id": "7f957ad9-166f-4efd-882f-a7f417d33d9d",
   "metadata": {},
   "outputs": [
    {
     "data": {
      "text/html": [
       "<div>\n",
       "<style scoped>\n",
       "    .dataframe tbody tr th:only-of-type {\n",
       "        vertical-align: middle;\n",
       "    }\n",
       "\n",
       "    .dataframe tbody tr th {\n",
       "        vertical-align: top;\n",
       "    }\n",
       "\n",
       "    .dataframe thead th {\n",
       "        text-align: right;\n",
       "    }\n",
       "</style>\n",
       "<table border=\"1\" class=\"dataframe\">\n",
       "  <thead>\n",
       "    <tr style=\"text-align: right;\">\n",
       "      <th></th>\n",
       "      <th>review</th>\n",
       "      <th>word_count</th>\n",
       "      <th>char_count</th>\n",
       "      <th>average_word_length</th>\n",
       "      <th>stopword_count</th>\n",
       "      <th>stopword_rate</th>\n",
       "    </tr>\n",
       "  </thead>\n",
       "  <tbody>\n",
       "    <tr>\n",
       "      <th>0</th>\n",
       "      <td>Best service center. The team is very responsi...</td>\n",
       "      <td>33</td>\n",
       "      <td>228</td>\n",
       "      <td>5.939394</td>\n",
       "      <td>5</td>\n",
       "      <td>0.151515</td>\n",
       "    </tr>\n",
       "    <tr>\n",
       "      <th>9</th>\n",
       "      <td>I took back my 2018 Model 3 last month for saf...</td>\n",
       "      <td>49</td>\n",
       "      <td>270</td>\n",
       "      <td>4.530612</td>\n",
       "      <td>15</td>\n",
       "      <td>0.306122</td>\n",
       "    </tr>\n",
       "    <tr>\n",
       "      <th>5</th>\n",
       "      <td>Slow and inhospitable. It should never take 3 ...</td>\n",
       "      <td>25</td>\n",
       "      <td>136</td>\n",
       "      <td>4.480000</td>\n",
       "      <td>9</td>\n",
       "      <td>0.360000</td>\n",
       "    </tr>\n",
       "    <tr>\n",
       "      <th>8</th>\n",
       "      <td>Classic sales person technique. Text you to co...</td>\n",
       "      <td>86</td>\n",
       "      <td>439</td>\n",
       "      <td>4.104651</td>\n",
       "      <td>36</td>\n",
       "      <td>0.418605</td>\n",
       "    </tr>\n",
       "    <tr>\n",
       "      <th>10</th>\n",
       "      <td>My model 3 got punctured on monday, slow leak ...</td>\n",
       "      <td>113</td>\n",
       "      <td>609</td>\n",
       "      <td>4.398230</td>\n",
       "      <td>48</td>\n",
       "      <td>0.424779</td>\n",
       "    </tr>\n",
       "    <tr>\n",
       "      <th>1</th>\n",
       "      <td>I went here today to get my front two tires re...</td>\n",
       "      <td>273</td>\n",
       "      <td>1472</td>\n",
       "      <td>4.395604</td>\n",
       "      <td>126</td>\n",
       "      <td>0.461538</td>\n",
       "    </tr>\n",
       "    <tr>\n",
       "      <th>6</th>\n",
       "      <td>Went here for repair after noticing a little g...</td>\n",
       "      <td>132</td>\n",
       "      <td>742</td>\n",
       "      <td>4.628788</td>\n",
       "      <td>61</td>\n",
       "      <td>0.462121</td>\n",
       "    </tr>\n",
       "    <tr>\n",
       "      <th>4</th>\n",
       "      <td>Delivery and customer service experience is be...</td>\n",
       "      <td>51</td>\n",
       "      <td>296</td>\n",
       "      <td>4.823529</td>\n",
       "      <td>24</td>\n",
       "      <td>0.470588</td>\n",
       "    </tr>\n",
       "    <tr>\n",
       "      <th>7</th>\n",
       "      <td>In a nutshell: Tesla sucks! I leased one of th...</td>\n",
       "      <td>136</td>\n",
       "      <td>734</td>\n",
       "      <td>4.404412</td>\n",
       "      <td>65</td>\n",
       "      <td>0.477941</td>\n",
       "    </tr>\n",
       "    <tr>\n",
       "      <th>3</th>\n",
       "      <td>I was very nervous about coming back to this T...</td>\n",
       "      <td>76</td>\n",
       "      <td>401</td>\n",
       "      <td>4.289474</td>\n",
       "      <td>39</td>\n",
       "      <td>0.513158</td>\n",
       "    </tr>\n",
       "    <tr>\n",
       "      <th>2</th>\n",
       "      <td>I waited for 25 mins and no one even acknowled...</td>\n",
       "      <td>59</td>\n",
       "      <td>278</td>\n",
       "      <td>3.728814</td>\n",
       "      <td>31</td>\n",
       "      <td>0.525424</td>\n",
       "    </tr>\n",
       "  </tbody>\n",
       "</table>\n",
       "</div>"
      ],
      "text/plain": [
       "                                               review  word_count  char_count  \\\n",
       "0   Best service center. The team is very responsi...          33         228   \n",
       "9   I took back my 2018 Model 3 last month for saf...          49         270   \n",
       "5   Slow and inhospitable. It should never take 3 ...          25         136   \n",
       "8   Classic sales person technique. Text you to co...          86         439   \n",
       "10  My model 3 got punctured on monday, slow leak ...         113         609   \n",
       "1   I went here today to get my front two tires re...         273        1472   \n",
       "6   Went here for repair after noticing a little g...         132         742   \n",
       "4   Delivery and customer service experience is be...          51         296   \n",
       "7   In a nutshell: Tesla sucks! I leased one of th...         136         734   \n",
       "3   I was very nervous about coming back to this T...          76         401   \n",
       "2   I waited for 25 mins and no one even acknowled...          59         278   \n",
       "\n",
       "    average_word_length  stopword_count  stopword_rate  \n",
       "0              5.939394               5       0.151515  \n",
       "9              4.530612              15       0.306122  \n",
       "5              4.480000               9       0.360000  \n",
       "8              4.104651              36       0.418605  \n",
       "10             4.398230              48       0.424779  \n",
       "1              4.395604             126       0.461538  \n",
       "6              4.628788              61       0.462121  \n",
       "4              4.823529              24       0.470588  \n",
       "7              4.404412              65       0.477941  \n",
       "3              4.289474              39       0.513158  \n",
       "2              3.728814              31       0.525424  "
      ]
     },
     "execution_count": 41,
     "metadata": {},
     "output_type": "execute_result"
    }
   ],
   "source": [
    "df.sort_values(by = 'stopword_rate')"
   ]
  },
  {
   "cell_type": "code",
   "execution_count": 42,
   "id": "80025495-a55b-4fae-8e05-9931da359459",
   "metadata": {},
   "outputs": [
    {
     "data": {
      "text/html": [
       "<div>\n",
       "<style scoped>\n",
       "    .dataframe tbody tr th:only-of-type {\n",
       "        vertical-align: middle;\n",
       "    }\n",
       "\n",
       "    .dataframe tbody tr th {\n",
       "        vertical-align: top;\n",
       "    }\n",
       "\n",
       "    .dataframe thead th {\n",
       "        text-align: right;\n",
       "    }\n",
       "</style>\n",
       "<table border=\"1\" class=\"dataframe\">\n",
       "  <thead>\n",
       "    <tr style=\"text-align: right;\">\n",
       "      <th></th>\n",
       "      <th>word_count</th>\n",
       "      <th>char_count</th>\n",
       "      <th>average_word_length</th>\n",
       "      <th>stopword_count</th>\n",
       "      <th>stopword_rate</th>\n",
       "    </tr>\n",
       "  </thead>\n",
       "  <tbody>\n",
       "    <tr>\n",
       "      <th>count</th>\n",
       "      <td>11.000000</td>\n",
       "      <td>11.000000</td>\n",
       "      <td>11.000000</td>\n",
       "      <td>11.000000</td>\n",
       "      <td>11.000000</td>\n",
       "    </tr>\n",
       "    <tr>\n",
       "      <th>mean</th>\n",
       "      <td>93.909091</td>\n",
       "      <td>509.545455</td>\n",
       "      <td>4.520319</td>\n",
       "      <td>41.727273</td>\n",
       "      <td>0.415617</td>\n",
       "    </tr>\n",
       "    <tr>\n",
       "      <th>std</th>\n",
       "      <td>70.412292</td>\n",
       "      <td>378.521430</td>\n",
       "      <td>0.549149</td>\n",
       "      <td>34.144080</td>\n",
       "      <td>0.108478</td>\n",
       "    </tr>\n",
       "    <tr>\n",
       "      <th>min</th>\n",
       "      <td>25.000000</td>\n",
       "      <td>136.000000</td>\n",
       "      <td>3.728814</td>\n",
       "      <td>5.000000</td>\n",
       "      <td>0.151515</td>\n",
       "    </tr>\n",
       "    <tr>\n",
       "      <th>25%</th>\n",
       "      <td>50.000000</td>\n",
       "      <td>274.000000</td>\n",
       "      <td>4.342539</td>\n",
       "      <td>19.500000</td>\n",
       "      <td>0.389302</td>\n",
       "    </tr>\n",
       "    <tr>\n",
       "      <th>50%</th>\n",
       "      <td>76.000000</td>\n",
       "      <td>401.000000</td>\n",
       "      <td>4.404412</td>\n",
       "      <td>36.000000</td>\n",
       "      <td>0.461538</td>\n",
       "    </tr>\n",
       "    <tr>\n",
       "      <th>75%</th>\n",
       "      <td>122.500000</td>\n",
       "      <td>671.500000</td>\n",
       "      <td>4.579700</td>\n",
       "      <td>54.500000</td>\n",
       "      <td>0.474265</td>\n",
       "    </tr>\n",
       "    <tr>\n",
       "      <th>max</th>\n",
       "      <td>273.000000</td>\n",
       "      <td>1472.000000</td>\n",
       "      <td>5.939394</td>\n",
       "      <td>126.000000</td>\n",
       "      <td>0.525424</td>\n",
       "    </tr>\n",
       "  </tbody>\n",
       "</table>\n",
       "</div>"
      ],
      "text/plain": [
       "       word_count   char_count  average_word_length  stopword_count  \\\n",
       "count   11.000000    11.000000            11.000000       11.000000   \n",
       "mean    93.909091   509.545455             4.520319       41.727273   \n",
       "std     70.412292   378.521430             0.549149       34.144080   \n",
       "min     25.000000   136.000000             3.728814        5.000000   \n",
       "25%     50.000000   274.000000             4.342539       19.500000   \n",
       "50%     76.000000   401.000000             4.404412       36.000000   \n",
       "75%    122.500000   671.500000             4.579700       54.500000   \n",
       "max    273.000000  1472.000000             5.939394      126.000000   \n",
       "\n",
       "       stopword_rate  \n",
       "count      11.000000  \n",
       "mean        0.415617  \n",
       "std         0.108478  \n",
       "min         0.151515  \n",
       "25%         0.389302  \n",
       "50%         0.461538  \n",
       "75%         0.474265  \n",
       "max         0.525424  "
      ]
     },
     "execution_count": 42,
     "metadata": {},
     "output_type": "execute_result"
    }
   ],
   "source": [
    "df.describe()"
   ]
  },
  {
   "cell_type": "markdown",
   "id": "5b22681a-f7b0-44ba-b950-743c29f7522d",
   "metadata": {},
   "source": [
    "# Data Cleaning"
   ]
  },
  {
   "cell_type": "code",
   "execution_count": 44,
   "id": "17af707a-cba6-456a-837f-8ee63b72d52c",
   "metadata": {},
   "outputs": [],
   "source": [
    "df['lowercase'] = df['review'].apply(lambda x : ' '.join(word.lower() for word in x.split()))"
   ]
  },
  {
   "cell_type": "markdown",
   "id": "38573c7e-2797-406d-9a2f-516dc46d7b80",
   "metadata": {},
   "source": [
    "### Removing punctuation"
   ]
  },
  {
   "cell_type": "code",
   "execution_count": 48,
   "id": "da632b7c-b9c4-4fc8-baab-f6babf81c042",
   "metadata": {},
   "outputs": [
    {
     "name": "stderr",
     "output_type": "stream",
     "text": [
      "/var/folders/bz/9s4mdqhj1ys8_bmyym5162tw0000gn/T/ipykernel_15099/4175363168.py:1: FutureWarning: The default value of regex will change from True to False in a future version.\n",
      "  df['punctuation'] = df['lowercase'].str.replace('[^\\w\\s]','')\n"
     ]
    }
   ],
   "source": [
    "df['punctuation'] = df['lowercase'].str.replace('[^\\w\\s]','')"
   ]
  },
  {
   "cell_type": "markdown",
   "id": "be2f77b2-1944-4cf8-b91a-e85af027ce7c",
   "metadata": {},
   "source": [
    "### Removing stopwords"
   ]
  },
  {
   "cell_type": "code",
   "execution_count": 52,
   "id": "3ee5ee8b-e2d3-4de1-be6a-0ee96f9c14cc",
   "metadata": {},
   "outputs": [],
   "source": [
    "df['stopwords'] = df['punctuation'].apply(lambda x:' '.join(word for word in x.split() if word not in stop_words))"
   ]
  },
  {
   "cell_type": "markdown",
   "id": "7ffa6e6e-6e41-4817-bdab-bcbf8e4003b1",
   "metadata": {},
   "source": [
    "### Checking for the most frequently occured words"
   ]
  },
  {
   "cell_type": "code",
   "execution_count": 57,
   "id": "10bcac0a-653d-410f-afe7-ffb08df4b7aa",
   "metadata": {},
   "outputs": [
    {
     "data": {
      "text/plain": [
       "service       12\n",
       "tire           8\n",
       "4              7\n",
       "tesla          7\n",
       "one            7\n",
       "tires          7\n",
       "went           6\n",
       "even           5\n",
       "new            5\n",
       "car            5\n",
       "location       4\n",
       "get            4\n",
       "back           4\n",
       "time           4\n",
       "came           4\n",
       "said           4\n",
       "model          4\n",
       "center         4\n",
       "drive          4\n",
       "nothing        4\n",
       "also           3\n",
       "month          3\n",
       "another        3\n",
       "take           3\n",
       "extremely      3\n",
       "needed         3\n",
       "whole          3\n",
       "literally      3\n",
       "3              3\n",
       "department     3\n",
       "dtype: int64"
      ]
     },
     "execution_count": 57,
     "metadata": {},
     "output_type": "execute_result"
    }
   ],
   "source": [
    "pd.Series(' '.join(df['stopwords']).split()).value_counts()[:30]"
   ]
  },
  {
   "cell_type": "code",
   "execution_count": 59,
   "id": "20549802-fbbd-4dda-8c99-9d8a2cc23d99",
   "metadata": {},
   "outputs": [],
   "source": [
    "other_stopwords = ['said','get','also','3','went','came','also','4','even','month','literally','center']"
   ]
  },
  {
   "cell_type": "code",
   "execution_count": 60,
   "id": "c379efbb-4489-4635-ae3c-7f78cd6627d0",
   "metadata": {},
   "outputs": [],
   "source": [
    "df['clean_review'] = df['stopwords'].apply(lambda x: ' '.join(word for word in x.split() if word not in other_stopwords))"
   ]
  },
  {
   "cell_type": "markdown",
   "id": "1756bb79-e503-4b88-8820-7b1761585f11",
   "metadata": {},
   "source": [
    "### Lemmatization"
   ]
  },
  {
   "cell_type": "code",
   "execution_count": 63,
   "id": "b05f5c6d-8cff-4319-a5fa-4941055fb539",
   "metadata": {},
   "outputs": [],
   "source": [
    "from textblob import Word"
   ]
  },
  {
   "cell_type": "code",
   "execution_count": 67,
   "id": "a0ed23c1-af98-41aa-b23e-21ce45b2c5a1",
   "metadata": {},
   "outputs": [
    {
     "name": "stderr",
     "output_type": "stream",
     "text": [
      "[nltk_data] Downloading package omw-1.4 to\n",
      "[nltk_data]     /Users/anishachitturu/nltk_data...\n"
     ]
    },
    {
     "data": {
      "text/plain": [
       "True"
      ]
     },
     "execution_count": 67,
     "metadata": {},
     "output_type": "execute_result"
    }
   ],
   "source": [
    "import nltk\n",
    "nltk.download('omw-1.4')"
   ]
  },
  {
   "cell_type": "markdown",
   "id": "6bc738e4-f823-427c-ac7f-40543365fefd",
   "metadata": {},
   "source": [
    "df['lemmatized'] = df['clean_review'].apply(lambda x:' '.join( Word(word).lemmatize() for word in x.split()))"
   ]
  },
  {
   "cell_type": "code",
   "execution_count": 70,
   "id": "6dbb1d5a-3f39-450d-870f-19c93d9dd54f",
   "metadata": {},
   "outputs": [
    {
     "data": {
      "text/html": [
       "<div>\n",
       "<style scoped>\n",
       "    .dataframe tbody tr th:only-of-type {\n",
       "        vertical-align: middle;\n",
       "    }\n",
       "\n",
       "    .dataframe tbody tr th {\n",
       "        vertical-align: top;\n",
       "    }\n",
       "\n",
       "    .dataframe thead th {\n",
       "        text-align: right;\n",
       "    }\n",
       "</style>\n",
       "<table border=\"1\" class=\"dataframe\">\n",
       "  <thead>\n",
       "    <tr style=\"text-align: right;\">\n",
       "      <th></th>\n",
       "      <th>review</th>\n",
       "      <th>word_count</th>\n",
       "      <th>char_count</th>\n",
       "      <th>average_word_length</th>\n",
       "      <th>stopword_count</th>\n",
       "      <th>stopword_rate</th>\n",
       "      <th>lowercase</th>\n",
       "      <th>punctuation</th>\n",
       "      <th>stopwords</th>\n",
       "      <th>clean_review</th>\n",
       "      <th>lemmatized</th>\n",
       "    </tr>\n",
       "  </thead>\n",
       "  <tbody>\n",
       "    <tr>\n",
       "      <th>0</th>\n",
       "      <td>Best service center. The team is very responsi...</td>\n",
       "      <td>33</td>\n",
       "      <td>228</td>\n",
       "      <td>5.939394</td>\n",
       "      <td>5</td>\n",
       "      <td>0.151515</td>\n",
       "      <td>best service center. the team is very responsi...</td>\n",
       "      <td>best service center the team is very responsiv...</td>\n",
       "      <td>best service center team responsive knowledgea...</td>\n",
       "      <td>best service team responsive knowledgeable fri...</td>\n",
       "      <td>best service team responsive knowledgeable fri...</td>\n",
       "    </tr>\n",
       "    <tr>\n",
       "      <th>1</th>\n",
       "      <td>I went here today to get my front two tires re...</td>\n",
       "      <td>273</td>\n",
       "      <td>1472</td>\n",
       "      <td>4.395604</td>\n",
       "      <td>126</td>\n",
       "      <td>0.461538</td>\n",
       "      <td>i went here today to get my front two tires re...</td>\n",
       "      <td>i went here today to get my front two tires re...</td>\n",
       "      <td>went today get front two tires replaced teslas...</td>\n",
       "      <td>today front two tires replaced teslas amazing ...</td>\n",
       "      <td>today front two tire replaced tesla amazing ve...</td>\n",
       "    </tr>\n",
       "    <tr>\n",
       "      <th>2</th>\n",
       "      <td>I waited for 25 mins and no one even acknowled...</td>\n",
       "      <td>59</td>\n",
       "      <td>278</td>\n",
       "      <td>3.728814</td>\n",
       "      <td>31</td>\n",
       "      <td>0.525424</td>\n",
       "      <td>i waited for 25 mins and no one even acknowled...</td>\n",
       "      <td>i waited for 25 mins and no one even acknowled...</td>\n",
       "      <td>waited 25 mins one even acknowledged show room...</td>\n",
       "      <td>waited 25 mins one acknowledged show room walk...</td>\n",
       "      <td>waited 25 min one acknowledged show room walke...</td>\n",
       "    </tr>\n",
       "    <tr>\n",
       "      <th>3</th>\n",
       "      <td>I was very nervous about coming back to this T...</td>\n",
       "      <td>76</td>\n",
       "      <td>401</td>\n",
       "      <td>4.289474</td>\n",
       "      <td>39</td>\n",
       "      <td>0.513158</td>\n",
       "      <td>i was very nervous about coming back to this t...</td>\n",
       "      <td>i was very nervous about coming back to this t...</td>\n",
       "      <td>nervous coming back tesla location due poor se...</td>\n",
       "      <td>nervous coming back tesla location due poor se...</td>\n",
       "      <td>nervous coming back tesla location due poor se...</td>\n",
       "    </tr>\n",
       "    <tr>\n",
       "      <th>4</th>\n",
       "      <td>Delivery and customer service experience is be...</td>\n",
       "      <td>51</td>\n",
       "      <td>296</td>\n",
       "      <td>4.823529</td>\n",
       "      <td>24</td>\n",
       "      <td>0.470588</td>\n",
       "      <td>delivery and customer service experience is be...</td>\n",
       "      <td>delivery and customer service experience is be...</td>\n",
       "      <td>delivery customer service experience beyond ho...</td>\n",
       "      <td>delivery customer service experience beyond ho...</td>\n",
       "      <td>delivery customer service experience beyond ho...</td>\n",
       "    </tr>\n",
       "  </tbody>\n",
       "</table>\n",
       "</div>"
      ],
      "text/plain": [
       "                                              review  word_count  char_count  \\\n",
       "0  Best service center. The team is very responsi...          33         228   \n",
       "1  I went here today to get my front two tires re...         273        1472   \n",
       "2  I waited for 25 mins and no one even acknowled...          59         278   \n",
       "3  I was very nervous about coming back to this T...          76         401   \n",
       "4  Delivery and customer service experience is be...          51         296   \n",
       "\n",
       "   average_word_length  stopword_count  stopword_rate  \\\n",
       "0             5.939394               5       0.151515   \n",
       "1             4.395604             126       0.461538   \n",
       "2             3.728814              31       0.525424   \n",
       "3             4.289474              39       0.513158   \n",
       "4             4.823529              24       0.470588   \n",
       "\n",
       "                                           lowercase  \\\n",
       "0  best service center. the team is very responsi...   \n",
       "1  i went here today to get my front two tires re...   \n",
       "2  i waited for 25 mins and no one even acknowled...   \n",
       "3  i was very nervous about coming back to this t...   \n",
       "4  delivery and customer service experience is be...   \n",
       "\n",
       "                                         punctuation  \\\n",
       "0  best service center the team is very responsiv...   \n",
       "1  i went here today to get my front two tires re...   \n",
       "2  i waited for 25 mins and no one even acknowled...   \n",
       "3  i was very nervous about coming back to this t...   \n",
       "4  delivery and customer service experience is be...   \n",
       "\n",
       "                                           stopwords  \\\n",
       "0  best service center team responsive knowledgea...   \n",
       "1  went today get front two tires replaced teslas...   \n",
       "2  waited 25 mins one even acknowledged show room...   \n",
       "3  nervous coming back tesla location due poor se...   \n",
       "4  delivery customer service experience beyond ho...   \n",
       "\n",
       "                                        clean_review  \\\n",
       "0  best service team responsive knowledgeable fri...   \n",
       "1  today front two tires replaced teslas amazing ...   \n",
       "2  waited 25 mins one acknowledged show room walk...   \n",
       "3  nervous coming back tesla location due poor se...   \n",
       "4  delivery customer service experience beyond ho...   \n",
       "\n",
       "                                          lemmatized  \n",
       "0  best service team responsive knowledgeable fri...  \n",
       "1  today front two tire replaced tesla amazing ve...  \n",
       "2  waited 25 min one acknowledged show room walke...  \n",
       "3  nervous coming back tesla location due poor se...  \n",
       "4  delivery customer service experience beyond ho...  "
      ]
     },
     "execution_count": 70,
     "metadata": {},
     "output_type": "execute_result"
    }
   ],
   "source": [
    "df.head()"
   ]
  },
  {
   "cell_type": "markdown",
   "id": "fc858253-669e-4848-bc5f-905f51ce86cb",
   "metadata": {},
   "source": [
    "## Sentiment Analysis"
   ]
  },
  {
   "cell_type": "code",
   "execution_count": 77,
   "id": "b0766d24-1c1e-4581-9762-75891ef504de",
   "metadata": {},
   "outputs": [
    {
     "name": "stdout",
     "output_type": "stream",
     "text": [
      "Requirement already satisfied: textblob in /Users/anishachitturu/opt/anaconda3/lib/python3.9/site-packages (0.17.1)\n",
      "Requirement already satisfied: nltk>=3.1 in /Users/anishachitturu/opt/anaconda3/lib/python3.9/site-packages (from textblob) (3.7)\n",
      "Requirement already satisfied: tqdm in /Users/anishachitturu/opt/anaconda3/lib/python3.9/site-packages (from nltk>=3.1->textblob) (4.64.1)\n",
      "Requirement already satisfied: regex>=2021.8.3 in /Users/anishachitturu/opt/anaconda3/lib/python3.9/site-packages (from nltk>=3.1->textblob) (2022.7.9)\n",
      "Requirement already satisfied: click in /Users/anishachitturu/opt/anaconda3/lib/python3.9/site-packages (from nltk>=3.1->textblob) (8.0.4)\n",
      "Requirement already satisfied: joblib in /Users/anishachitturu/opt/anaconda3/lib/python3.9/site-packages (from nltk>=3.1->textblob) (1.2.0)\n",
      "Note: you may need to restart the kernel to use updated packages.\n"
     ]
    }
   ],
   "source": [
    "pip install textblob"
   ]
  },
  {
   "cell_type": "code",
   "execution_count": 80,
   "id": "ca92d7ef-9421-4344-879d-0b1748cd47e9",
   "metadata": {},
   "outputs": [],
   "source": [
    "from textblob import TextBlob"
   ]
  },
  {
   "cell_type": "code",
   "execution_count": 83,
   "id": "7565c70a-6f12-4c66-928e-b570b57563f8",
   "metadata": {},
   "outputs": [],
   "source": [
    "df['polarity'] = df['lemmatized'].apply(lambda x: TextBlob(x).sentiment[0])"
   ]
  },
  {
   "cell_type": "code",
   "execution_count": 84,
   "id": "23bbad3c-9e64-4094-89c8-58744114d6ed",
   "metadata": {},
   "outputs": [],
   "source": [
    "df['subjectivity'] = df['lemmatized'].apply(lambda x: TextBlob(x).sentiment[1])"
   ]
  },
  {
   "cell_type": "code",
   "execution_count": 87,
   "id": "3da42a58-100c-475f-bddc-176a0f9cd3b7",
   "metadata": {},
   "outputs": [
    {
     "data": {
      "text/html": [
       "<div>\n",
       "<style scoped>\n",
       "    .dataframe tbody tr th:only-of-type {\n",
       "        vertical-align: middle;\n",
       "    }\n",
       "\n",
       "    .dataframe tbody tr th {\n",
       "        vertical-align: top;\n",
       "    }\n",
       "\n",
       "    .dataframe thead th {\n",
       "        text-align: right;\n",
       "    }\n",
       "</style>\n",
       "<table border=\"1\" class=\"dataframe\">\n",
       "  <thead>\n",
       "    <tr style=\"text-align: right;\">\n",
       "      <th></th>\n",
       "      <th>review</th>\n",
       "      <th>word_count</th>\n",
       "      <th>char_count</th>\n",
       "      <th>average_word_length</th>\n",
       "      <th>stopword_count</th>\n",
       "      <th>stopword_rate</th>\n",
       "      <th>lowercase</th>\n",
       "      <th>punctuation</th>\n",
       "      <th>stopwords</th>\n",
       "      <th>clean_review</th>\n",
       "      <th>lemmatized</th>\n",
       "      <th>polarity</th>\n",
       "      <th>subjectivity</th>\n",
       "    </tr>\n",
       "  </thead>\n",
       "  <tbody>\n",
       "    <tr>\n",
       "      <th>0</th>\n",
       "      <td>Best service center. The team is very responsi...</td>\n",
       "      <td>33</td>\n",
       "      <td>228</td>\n",
       "      <td>5.939394</td>\n",
       "      <td>5</td>\n",
       "      <td>0.151515</td>\n",
       "      <td>best service center. the team is very responsi...</td>\n",
       "      <td>best service center the team is very responsiv...</td>\n",
       "      <td>best service center team responsive knowledgea...</td>\n",
       "      <td>best service team responsive knowledgeable fri...</td>\n",
       "      <td>best service team responsive knowledgeable fri...</td>\n",
       "      <td>0.295000</td>\n",
       "      <td>0.236667</td>\n",
       "    </tr>\n",
       "    <tr>\n",
       "      <th>1</th>\n",
       "      <td>I went here today to get my front two tires re...</td>\n",
       "      <td>273</td>\n",
       "      <td>1472</td>\n",
       "      <td>4.395604</td>\n",
       "      <td>126</td>\n",
       "      <td>0.461538</td>\n",
       "      <td>i went here today to get my front two tires re...</td>\n",
       "      <td>i went here today to get my front two tires re...</td>\n",
       "      <td>went today get front two tires replaced teslas...</td>\n",
       "      <td>today front two tires replaced teslas amazing ...</td>\n",
       "      <td>today front two tire replaced tesla amazing ve...</td>\n",
       "      <td>0.018309</td>\n",
       "      <td>0.505693</td>\n",
       "    </tr>\n",
       "    <tr>\n",
       "      <th>2</th>\n",
       "      <td>I waited for 25 mins and no one even acknowled...</td>\n",
       "      <td>59</td>\n",
       "      <td>278</td>\n",
       "      <td>3.728814</td>\n",
       "      <td>31</td>\n",
       "      <td>0.525424</td>\n",
       "      <td>i waited for 25 mins and no one even acknowled...</td>\n",
       "      <td>i waited for 25 mins and no one even acknowled...</td>\n",
       "      <td>waited 25 mins one even acknowledged show room...</td>\n",
       "      <td>waited 25 mins one acknowledged show room walk...</td>\n",
       "      <td>waited 25 min one acknowledged show room walke...</td>\n",
       "      <td>-0.081818</td>\n",
       "      <td>0.450000</td>\n",
       "    </tr>\n",
       "    <tr>\n",
       "      <th>3</th>\n",
       "      <td>I was very nervous about coming back to this T...</td>\n",
       "      <td>76</td>\n",
       "      <td>401</td>\n",
       "      <td>4.289474</td>\n",
       "      <td>39</td>\n",
       "      <td>0.513158</td>\n",
       "      <td>i was very nervous about coming back to this t...</td>\n",
       "      <td>i was very nervous about coming back to this t...</td>\n",
       "      <td>nervous coming back tesla location due poor se...</td>\n",
       "      <td>nervous coming back tesla location due poor se...</td>\n",
       "      <td>nervous coming back tesla location due poor se...</td>\n",
       "      <td>0.059375</td>\n",
       "      <td>0.296875</td>\n",
       "    </tr>\n",
       "    <tr>\n",
       "      <th>4</th>\n",
       "      <td>Delivery and customer service experience is be...</td>\n",
       "      <td>51</td>\n",
       "      <td>296</td>\n",
       "      <td>4.823529</td>\n",
       "      <td>24</td>\n",
       "      <td>0.470588</td>\n",
       "      <td>delivery and customer service experience is be...</td>\n",
       "      <td>delivery and customer service experience is be...</td>\n",
       "      <td>delivery customer service experience beyond ho...</td>\n",
       "      <td>delivery customer service experience beyond ho...</td>\n",
       "      <td>delivery customer service experience beyond ho...</td>\n",
       "      <td>-0.075000</td>\n",
       "      <td>0.728472</td>\n",
       "    </tr>\n",
       "  </tbody>\n",
       "</table>\n",
       "</div>"
      ],
      "text/plain": [
       "                                              review  word_count  char_count  \\\n",
       "0  Best service center. The team is very responsi...          33         228   \n",
       "1  I went here today to get my front two tires re...         273        1472   \n",
       "2  I waited for 25 mins and no one even acknowled...          59         278   \n",
       "3  I was very nervous about coming back to this T...          76         401   \n",
       "4  Delivery and customer service experience is be...          51         296   \n",
       "\n",
       "   average_word_length  stopword_count  stopword_rate  \\\n",
       "0             5.939394               5       0.151515   \n",
       "1             4.395604             126       0.461538   \n",
       "2             3.728814              31       0.525424   \n",
       "3             4.289474              39       0.513158   \n",
       "4             4.823529              24       0.470588   \n",
       "\n",
       "                                           lowercase  \\\n",
       "0  best service center. the team is very responsi...   \n",
       "1  i went here today to get my front two tires re...   \n",
       "2  i waited for 25 mins and no one even acknowled...   \n",
       "3  i was very nervous about coming back to this t...   \n",
       "4  delivery and customer service experience is be...   \n",
       "\n",
       "                                         punctuation  \\\n",
       "0  best service center the team is very responsiv...   \n",
       "1  i went here today to get my front two tires re...   \n",
       "2  i waited for 25 mins and no one even acknowled...   \n",
       "3  i was very nervous about coming back to this t...   \n",
       "4  delivery and customer service experience is be...   \n",
       "\n",
       "                                           stopwords  \\\n",
       "0  best service center team responsive knowledgea...   \n",
       "1  went today get front two tires replaced teslas...   \n",
       "2  waited 25 mins one even acknowledged show room...   \n",
       "3  nervous coming back tesla location due poor se...   \n",
       "4  delivery customer service experience beyond ho...   \n",
       "\n",
       "                                        clean_review  \\\n",
       "0  best service team responsive knowledgeable fri...   \n",
       "1  today front two tires replaced teslas amazing ...   \n",
       "2  waited 25 mins one acknowledged show room walk...   \n",
       "3  nervous coming back tesla location due poor se...   \n",
       "4  delivery customer service experience beyond ho...   \n",
       "\n",
       "                                          lemmatized  polarity  subjectivity  \n",
       "0  best service team responsive knowledgeable fri...  0.295000      0.236667  \n",
       "1  today front two tire replaced tesla amazing ve...  0.018309      0.505693  \n",
       "2  waited 25 min one acknowledged show room walke... -0.081818      0.450000  \n",
       "3  nervous coming back tesla location due poor se...  0.059375      0.296875  \n",
       "4  delivery customer service experience beyond ho... -0.075000      0.728472  "
      ]
     },
     "execution_count": 87,
     "metadata": {},
     "output_type": "execute_result"
    }
   ],
   "source": [
    "df.head()"
   ]
  },
  {
   "cell_type": "code",
   "execution_count": 91,
   "id": "2ce8ff82-4830-4033-89bf-2dbde0a9de05",
   "metadata": {},
   "outputs": [
    {
     "data": {
      "image/png": "[encoded data removed]",
      "text/plain": [
       "<Figure size 640x480 with 1 Axes>"
      ]
     },
     "metadata": {},
     "output_type": "display_data"
    }
   ],
   "source": [
    "import matplotlib.pyplot as plt\n",
    "from textblob import TextBlob\n",
    "\n",
    "# Create a scatter plot of the sentiment scores\n",
    "plt.scatter(df['subjectivity'], df['polarity'])\n",
    "plt.xlabel(\"subjectivity\")\n",
    "plt.ylabel(\"polarity\")\n",
    "plt.title(\"Sentiment Analysis Results\")\n",
    "plt.show()\n"
   ]
  },
  {
   "cell_type": "code",
   "execution_count": 92,
   "id": "ff113585-75e3-4064-95ff-d37d97cbda24",
   "metadata": {},
   "outputs": [
    {
     "data": {
      "text/html": [
       "<div>\n",
       "<style scoped>\n",
       "    .dataframe tbody tr th:only-of-type {\n",
       "        vertical-align: middle;\n",
       "    }\n",
       "\n",
       "    .dataframe tbody tr th {\n",
       "        vertical-align: top;\n",
       "    }\n",
       "\n",
       "    .dataframe thead th {\n",
       "        text-align: right;\n",
       "    }\n",
       "</style>\n",
       "<table border=\"1\" class=\"dataframe\">\n",
       "  <thead>\n",
       "    <tr style=\"text-align: right;\">\n",
       "      <th></th>\n",
       "      <th>word_count</th>\n",
       "      <th>char_count</th>\n",
       "      <th>average_word_length</th>\n",
       "      <th>stopword_count</th>\n",
       "      <th>stopword_rate</th>\n",
       "      <th>polarity</th>\n",
       "      <th>subjectivity</th>\n",
       "    </tr>\n",
       "  </thead>\n",
       "  <tbody>\n",
       "    <tr>\n",
       "      <th>count</th>\n",
       "      <td>11.000000</td>\n",
       "      <td>11.000000</td>\n",
       "      <td>11.000000</td>\n",
       "      <td>11.000000</td>\n",
       "      <td>11.000000</td>\n",
       "      <td>11.000000</td>\n",
       "      <td>11.000000</td>\n",
       "    </tr>\n",
       "    <tr>\n",
       "      <th>mean</th>\n",
       "      <td>93.909091</td>\n",
       "      <td>509.545455</td>\n",
       "      <td>4.520319</td>\n",
       "      <td>41.727273</td>\n",
       "      <td>0.415617</td>\n",
       "      <td>0.030989</td>\n",
       "      <td>0.462927</td>\n",
       "    </tr>\n",
       "    <tr>\n",
       "      <th>std</th>\n",
       "      <td>70.412292</td>\n",
       "      <td>378.521430</td>\n",
       "      <td>0.549149</td>\n",
       "      <td>34.144080</td>\n",
       "      <td>0.108478</td>\n",
       "      <td>0.141762</td>\n",
       "      <td>0.158985</td>\n",
       "    </tr>\n",
       "    <tr>\n",
       "      <th>min</th>\n",
       "      <td>25.000000</td>\n",
       "      <td>136.000000</td>\n",
       "      <td>3.728814</td>\n",
       "      <td>5.000000</td>\n",
       "      <td>0.151515</td>\n",
       "      <td>-0.150000</td>\n",
       "      <td>0.236667</td>\n",
       "    </tr>\n",
       "    <tr>\n",
       "      <th>25%</th>\n",
       "      <td>50.000000</td>\n",
       "      <td>274.000000</td>\n",
       "      <td>4.342539</td>\n",
       "      <td>19.500000</td>\n",
       "      <td>0.389302</td>\n",
       "      <td>-0.078409</td>\n",
       "      <td>0.365104</td>\n",
       "    </tr>\n",
       "    <tr>\n",
       "      <th>50%</th>\n",
       "      <td>76.000000</td>\n",
       "      <td>401.000000</td>\n",
       "      <td>4.404412</td>\n",
       "      <td>36.000000</td>\n",
       "      <td>0.461538</td>\n",
       "      <td>0.030640</td>\n",
       "      <td>0.473737</td>\n",
       "    </tr>\n",
       "    <tr>\n",
       "      <th>75%</th>\n",
       "      <td>122.500000</td>\n",
       "      <td>671.500000</td>\n",
       "      <td>4.579700</td>\n",
       "      <td>54.500000</td>\n",
       "      <td>0.474265</td>\n",
       "      <td>0.113021</td>\n",
       "      <td>0.510763</td>\n",
       "    </tr>\n",
       "    <tr>\n",
       "      <th>max</th>\n",
       "      <td>273.000000</td>\n",
       "      <td>1472.000000</td>\n",
       "      <td>5.939394</td>\n",
       "      <td>126.000000</td>\n",
       "      <td>0.525424</td>\n",
       "      <td>0.295000</td>\n",
       "      <td>0.728472</td>\n",
       "    </tr>\n",
       "  </tbody>\n",
       "</table>\n",
       "</div>"
      ],
      "text/plain": [
       "       word_count   char_count  average_word_length  stopword_count  \\\n",
       "count   11.000000    11.000000            11.000000       11.000000   \n",
       "mean    93.909091   509.545455             4.520319       41.727273   \n",
       "std     70.412292   378.521430             0.549149       34.144080   \n",
       "min     25.000000   136.000000             3.728814        5.000000   \n",
       "25%     50.000000   274.000000             4.342539       19.500000   \n",
       "50%     76.000000   401.000000             4.404412       36.000000   \n",
       "75%    122.500000   671.500000             4.579700       54.500000   \n",
       "max    273.000000  1472.000000             5.939394      126.000000   \n",
       "\n",
       "       stopword_rate   polarity  subjectivity  \n",
       "count      11.000000  11.000000     11.000000  \n",
       "mean        0.415617   0.030989      0.462927  \n",
       "std         0.108478   0.141762      0.158985  \n",
       "min         0.151515  -0.150000      0.236667  \n",
       "25%         0.389302  -0.078409      0.365104  \n",
       "50%         0.461538   0.030640      0.473737  \n",
       "75%         0.474265   0.113021      0.510763  \n",
       "max         0.525424   0.295000      0.728472  "
      ]
     },
     "execution_count": 92,
     "metadata": {},
     "output_type": "execute_result"
    }
   ],
   "source": [
    "df.describe()"
   ]
  },
  {
   "cell_type": "code",
   "execution_count": null,
   "id": "a049db74-c741-4554-915a-c06610eb91c1",
   "metadata": {},
   "outputs": [],
   "source": []
  }
 ],
 "metadata": {
  "kernelspec": {
   "display_name": "Python 3 (ipykernel)",
   "language": "python",
   "name": "python3"
  },
  "language_info": {
   "codemirror_mode": {
    "name": "ipython",
    "version": 3
   },
   "file_extension": ".py",
   "mimetype": "text/x-python",
   "name": "python",
   "nbconvert_exporter": "python",
   "pygments_lexer": "ipython3",
   "version": "3.9.13"
  }
 },
 "nbformat": 4,
 "nbformat_minor": 5
}
